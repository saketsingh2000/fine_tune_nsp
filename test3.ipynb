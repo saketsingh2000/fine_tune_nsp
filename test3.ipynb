{
 "cells": [
  {
   "cell_type": "code",
   "execution_count": 1,
   "metadata": {},
   "outputs": [
    {
     "name": "stdout",
     "output_type": "stream",
     "text": [
      "Requirement already satisfied: transformers in c:\\users\\umesh.malviya1\\appdata\\local\\programs\\python\\python312\\lib\\site-packages (4.38.2)\n",
      "Requirement already satisfied: filelock in c:\\users\\umesh.malviya1\\appdata\\local\\programs\\python\\python312\\lib\\site-packages (from transformers) (3.13.1)\n",
      "Requirement already satisfied: huggingface-hub<1.0,>=0.19.3 in c:\\users\\umesh.malviya1\\appdata\\local\\programs\\python\\python312\\lib\\site-packages (from transformers) (0.21.4)\n",
      "Requirement already satisfied: numpy>=1.17 in c:\\users\\umesh.malviya1\\appdata\\local\\programs\\python\\python312\\lib\\site-packages (from transformers) (1.26.4)\n",
      "Requirement already satisfied: packaging>=20.0 in c:\\users\\umesh.malviya1\\appdata\\roaming\\python\\python312\\site-packages (from transformers) (23.2)\n",
      "Requirement already satisfied: pyyaml>=5.1 in c:\\users\\umesh.malviya1\\appdata\\local\\programs\\python\\python312\\lib\\site-packages (from transformers) (6.0.1)\n",
      "Requirement already satisfied: regex!=2019.12.17 in c:\\users\\umesh.malviya1\\appdata\\local\\programs\\python\\python312\\lib\\site-packages (from transformers) (2023.12.25)\n",
      "Requirement already satisfied: requests in c:\\users\\umesh.malviya1\\appdata\\local\\programs\\python\\python312\\lib\\site-packages (from transformers) (2.31.0)\n",
      "Requirement already satisfied: tokenizers<0.19,>=0.14 in c:\\users\\umesh.malviya1\\appdata\\local\\programs\\python\\python312\\lib\\site-packages (from transformers) (0.15.2)\n",
      "Requirement already satisfied: safetensors>=0.4.1 in c:\\users\\umesh.malviya1\\appdata\\local\\programs\\python\\python312\\lib\\site-packages (from transformers) (0.4.2)\n",
      "Requirement already satisfied: tqdm>=4.27 in c:\\users\\umesh.malviya1\\appdata\\local\\programs\\python\\python312\\lib\\site-packages (from transformers) (4.66.2)\n",
      "Requirement already satisfied: fsspec>=2023.5.0 in c:\\users\\umesh.malviya1\\appdata\\local\\programs\\python\\python312\\lib\\site-packages (from huggingface-hub<1.0,>=0.19.3->transformers) (2024.2.0)\n",
      "Requirement already satisfied: typing-extensions>=3.7.4.3 in c:\\users\\umesh.malviya1\\appdata\\local\\programs\\python\\python312\\lib\\site-packages (from huggingface-hub<1.0,>=0.19.3->transformers) (4.10.0)\n",
      "Requirement already satisfied: colorama in c:\\users\\umesh.malviya1\\appdata\\roaming\\python\\python312\\site-packages (from tqdm>=4.27->transformers) (0.4.6)\n",
      "Requirement already satisfied: charset-normalizer<4,>=2 in c:\\users\\umesh.malviya1\\appdata\\local\\programs\\python\\python312\\lib\\site-packages (from requests->transformers) (3.3.2)\n",
      "Requirement already satisfied: idna<4,>=2.5 in c:\\users\\umesh.malviya1\\appdata\\local\\programs\\python\\python312\\lib\\site-packages (from requests->transformers) (3.6)\n",
      "Requirement already satisfied: urllib3<3,>=1.21.1 in c:\\users\\umesh.malviya1\\appdata\\local\\programs\\python\\python312\\lib\\site-packages (from requests->transformers) (2.2.1)\n",
      "Requirement already satisfied: certifi>=2017.4.17 in c:\\users\\umesh.malviya1\\appdata\\local\\programs\\python\\python312\\lib\\site-packages (from requests->transformers) (2024.2.2)\n",
      "Note: you may need to restart the kernel to use updated packages.\n"
     ]
    },
    {
     "name": "stderr",
     "output_type": "stream",
     "text": [
      "c:\\Users\\umesh.malviya1\\AppData\\Local\\Programs\\Python\\Python312\\Lib\\site-packages\\tqdm\\auto.py:21: TqdmWarning: IProgress not found. Please update jupyter and ipywidgets. See https://ipywidgets.readthedocs.io/en/stable/user_install.html\n",
      "  from .autonotebook import tqdm as notebook_tqdm\n"
     ]
    }
   ],
   "source": [
    "%pip install transformers\n",
    "from transformers import T5ForConditionalGeneration, T5Tokenizer, Trainer, TrainingArguments\n",
    "import torch\n",
    " \n",
    "\n",
    " \n",
    "\n",
    " \n"
   ]
  },
  {
   "cell_type": "code",
   "execution_count": 2,
   "metadata": {},
   "outputs": [],
   "source": [
    "sample_data = [\n",
    "    {\"customer\": \"I'm having trouble logging into my account.\", \"agent_response\": \"Sure, could you please provide your email address?\"},\n",
    "    {\"customer\": \"My order hasn't arrived yet.\", \"agent_response\": \"Can you please provide your order number so I can check the status?\"},\n",
    "    {\"customer\": \"I need to update my billing information.\", \"agent_response\": \"Sure, could you please provide the new billing address?\"},\n",
    "    {\"customer\": \"I accidentally deleted my account. Can you help me recover it?\", \"agent_response\": \"Of course, could you please provide your username or email associated with the account?\"},\n",
    "    {\"customer\": \"I received a damaged product. What should I do?\", \"agent_response\": \"I apologize for the inconvenience. Could you please provide a photo of the damaged product and your order number?\"},\n",
    "    {\"customer\": \"I'm unable to add items to my cart on the website.\", \"agent_response\": \"I'm sorry to hear that. Could you please try clearing your browser's cache and cookies, and then try again?\"},\n",
    "    {\"customer\": \"Do you offer international shipping?\", \"agent_response\": \"Yes, we do offer international shipping. Could you please provide your shipping address so I can check the shipping options and costs?\"},\n",
    "    {\"customer\": \"I need assistance with tracking my package.\", \"agent_response\": \"Sure, could you please provide your tracking number?\"},\n",
    "    {\"customer\": \"I want to cancel my subscription.\", \"agent_response\": \"I'm sorry to hear that. Could you please provide your account details so I can assist you with canceling your subscription?\"},\n",
    "    {\"customer\": \"How can I change my password?\", \"agent_response\": \"You can change your password by visiting the account settings page. Would you like me to guide you through it?\"},\n",
    "    {\"customer\": \"I forgot my password. Can you help me reset it?\", \"agent_response\": \"Of course! Could you please provide the email address associated with your account so I can send you a password reset link?\"},\n",
    "    {\"customer\": \"What payment methods do you accept?\", \"agent_response\": \"We accept various payment methods including credit/debit cards, PayPal, and bank transfers. Is there a specific method you're interested in?\"},\n",
    "    {\"customer\": \"I'm having trouble placing an order on the website.\", \"agent_response\": \"I apologize for the inconvenience. Could you please describe the issue you're facing during the checkout process?\"},\n",
    "    {\"customer\": \"Is there a way to expedite shipping for my order?\", \"agent_response\": \"Yes, we offer expedited shipping options. Could you please provide your order number so I can check availability and provide you with the options?\"},\n",
    "    {\"customer\": \"Can I return an item if I'm not satisfied with it?\", \"agent_response\": \"Yes, you can return items within our return policy period. Could you please provide your order number so I can assist you with the return process?\"},\n",
    "    {\"customer\": \"I need help with installing the software I purchased.\", \"agent_response\": \"Sure! Could you please specify the software you purchased and the device you're trying to install it on?\"},\n",
    "    {\"customer\": \"What are your business hours?\", \"agent_response\": \"Our business hours are from [insert hours here]. Is there anything specific you need assistance with right now?\"},\n",
    "    {\"customer\": \"I'm experiencing technical issues with your app.\", \"agent_response\": \"I'm sorry for the inconvenience. Could you please describe the issue you're encountering so I can assist you further?\"},\n",
    "    {\"customer\": \"I'm interested in your product/service. Can you provide more information?\", \"agent_response\": \"Absolutely! Could you please specify which product or service you're interested in, so I can provide you with detailed information?\"},\n",
    "    {\"customer\": \"How can I update my shipping address for an existing order?\", \"agent_response\": \"You can update your shipping address by contacting our customer support team with your order number and the new shipping address details.\"},\n",
    "    {\"customer\": \"I'm trying to reach your customer support but unable to connect.\", \"agent_response\": \"I apologize for the inconvenience. Our lines might be busy. Could you please try again later or provide me with your contact information, and I'll have someone reach out to you?\"},\n",
    "    {\"customer\": \"I'm interested in your product, but I have some specific requirements. Can you accommodate them?\", \"agent_response\": \"We strive to meet our customers' needs. Could you please specify your requirements so I can check if we can accommodate them?\"},\n",
    "    {\"customer\": \"I accidentally placed the wrong order. How can I change it?\", \"agent_response\": \"I'm sorry to hear that. Could you please provide your order number and the changes you'd like to make, and I'll see what I can do to assist you?\"},\n",
    "    {\"customer\": \"Is there a warranty on the products you sell?\", \"agent_response\": \"Yes, most of our products come with a warranty. Could you please specify which product you're inquiring about so I can provide you with warranty details?\"},\n",
    "    {\"customer\": \"I'm having difficulties accessing certain features on your website.\", \"agent_response\": \"I apologize for the inconvenience. Could you please specify which features you're having trouble accessing so I can assist you further?\"},\n",
    "    {\"customer\": \"I'm interested in bulk ordering. Do you offer discounts for bulk purchases?\", \"agent_response\": \"Yes, we do offer discounts for bulk orders. Could you please provide more details about the quantity you're interested in, so I can provide you with a quote?\"},\n",
    "    {\"customer\": \"How long does it usually take to receive a response from customer support?\", \"agent_response\": \"We strive to respond to all inquiries within [insert timeframe]. If you haven't received a response within this time, please let me know, and I'll expedite your request.\"},\n",
    "    {\"customer\": \"I received the wrong item in my order. What should I do?\", \"agent_response\": \"I apologize for the mistake. Could you please provide your order number and details of the item you received incorrectly, so I can arrange for a replacement or refund?\"},\n",
    "    {\"customer\": \"I'm having trouble applying a discount code during checkout.\", \"agent_response\": \"I'm sorry for the inconvenience. Could you please provide the discount code you're trying to apply and describe the issue you're encountering so I can assist you further?\"},\n",
    "    {\"customer\": \"I'm interested in becoming a reseller of your products. Do you have a reseller program?\", \"agent_response\": \"Yes, we do have a reseller program. Could you please provide your contact information, and I'll have someone from our sales team reach out to you with more details?\"},\n",
    "]\n"
   ]
  },
  {
   "cell_type": "code",
   "execution_count": 4,
   "metadata": {},
   "outputs": [
    {
     "name": "stderr",
     "output_type": "stream",
     "text": [
      "You are using the default legacy behaviour of the <class 'transformers.models.t5.tokenization_t5.T5Tokenizer'>. This is expected, and simply means that the `legacy` (previous) behavior will be used so nothing changes for you. If you want to use the new behaviour, set `legacy=False`. This should only be set if you understand what it means, and thoroughly read the reason why this was added as explained in https://github.com/huggingface/transformers/pull/24565\n",
      "Special tokens have been added in the vocabulary, make sure the associated word embeddings are fine-tuned or trained.\n"
     ]
    }
   ],
   "source": [
    "# Modify the data format\n",
    "train_data = []\n",
    "for i in range(len(sample_data) - 1):\n",
    "    context = \" \".join([conv[\"customer\"] for conv in sample_data[:i+1]])\n",
    "    target = sample_data[i+1][\"agent_response\"]\n",
    "    train_data.append({\"context\": context, \"target\": target})\n",
    "\n",
    "# Define a new CustomDataset class for next best suggestion prediction\n",
    "class CustomDataset(torch.utils.data.Dataset):\n",
    "    def __init__(self, data, tokenizer, max_length=512):\n",
    "        self.data = data\n",
    "        self.tokenizer = tokenizer\n",
    "        self.max_length = max_length\n",
    " \n",
    "    def __len__(self):\n",
    "        return len(self.data)\n",
    " \n",
    "    def __getitem__(self, idx):\n",
    "        item = self.data[idx]\n",
    "        context = item['context']\n",
    "        target = item['target']\n",
    " \n",
    "        input_encoding = self.tokenizer(context, truncation=True, max_length=self.max_length, padding=\"max_length\", return_tensors=\"pt\")\n",
    "        target_encoding = self.tokenizer(target, truncation=True, max_length=self.max_length, padding=\"max_length\", return_tensors=\"pt\")\n",
    " \n",
    "        labels = target_encoding[\"input_ids\"]\n",
    "        labels[labels == 0] = -100  # Ignore padding tokens in loss calculation\n",
    " \n",
    "        return {\n",
    "            \"input_ids\": input_encoding[\"input_ids\"].flatten(),\n",
    "            \"attention_mask\": input_encoding[\"attention_mask\"].flatten(),\n",
    "            \"labels\": labels.flatten(),\n",
    "        }\n",
    "\n",
    "\n",
    "model_name = \"t5-small\"  # or \"t5-base\", \"t5-large\", etc.\n",
    "tokenizer = T5Tokenizer.from_pretrained(model_name)\n",
    "model = T5ForConditionalGeneration.from_pretrained(model_name)\n",
    "# Update training dataset\n",
    "train_dataset = CustomDataset(train_data, tokenizer)\n",
    "\n"
   ]
  },
  {
   "cell_type": "code",
   "execution_count": 5,
   "metadata": {},
   "outputs": [
    {
     "name": "stderr",
     "output_type": "stream",
     "text": [
      " 88%|████████▊ | 21/24 [06:51<01:03, 21.29s/it]"
     ]
    }
   ],
   "source": [
    "# Define training arguments\n",
    "training_args = TrainingArguments(\n",
    "    per_device_train_batch_size=4,\n",
    "    num_train_epochs=3,\n",
    "    logging_dir='./logs',\n",
    "    logging_steps=100,\n",
    "    save_steps=1000,\n",
    "    evaluation_strategy=\"steps\",\n",
    "    eval_steps=500,\n",
    "    output_dir='./models'\n",
    ")\n",
    "\n",
    "# Define trainer\n",
    "trainer = Trainer(\n",
    "    model=model,\n",
    "    args=training_args,\n",
    "    train_dataset=train_dataset,\n",
    "    tokenizer=tokenizer,\n",
    ")\n",
    "\n",
    "# Fine-tune the model\n",
    "trainer.train()\n",
    "\n",
    "# Save the fine-tuned model\n",
    "trainer.save_model(\"./fine_tuned_model\")\n"
   ]
  },
  {
   "cell_type": "code",
   "execution_count": null,
   "metadata": {},
   "outputs": [],
   "source": [
    "# Load the fine-tuned model\n",
    "fine_tuned_model = T5ForConditionalGeneration.from_pretrained(\"./fine_tuned_model\")\n",
    "\n",
    "# Function to generate response\n",
    "def generate_response(user_dialogue, fine_tuned_model, tokenizer, max_length=512):\n",
    "    # Prepare input dialogue\n",
    "    input_text = \"conversation history: \" + user_dialogue\n",
    "    input_encoding = tokenizer(input_text, truncation=True, max_length=max_length, padding=\"max_length\", return_tensors=\"pt\")\n",
    "    \n",
    "    # Generate response\n",
    "    output_ids = fine_tuned_model.generate(input_ids=input_encoding[\"input_ids\"], \n",
    "                                           attention_mask=input_encoding[\"attention_mask\"], \n",
    "                                           max_length=max_length, \n",
    "                                           num_beams=5, \n",
    "                                           early_stopping=True)\n",
    "    \n",
    "    # Decode generated response\n",
    "    generated_response = tokenizer.decode(output_ids[0], skip_special_tokens=True)\n",
    "    \n",
    "    return generated_response\n",
    "\n",
    "# Example usage\n",
    "user_dialogue = \"I'm having trouble logging into my account.\"\n",
    "response = generate_response(user_dialogue, fine_tuned_model, tokenizer)\n",
    "print(\"Generated response:\", response)\n"
   ]
  }
 ],
 "metadata": {
  "kernelspec": {
   "display_name": "Python 3",
   "language": "python",
   "name": "python3"
  },
  "language_info": {
   "codemirror_mode": {
    "name": "ipython",
    "version": 3
   },
   "file_extension": ".py",
   "mimetype": "text/x-python",
   "name": "python",
   "nbconvert_exporter": "python",
   "pygments_lexer": "ipython3",
   "version": "3.12.2"
  }
 },
 "nbformat": 4,
 "nbformat_minor": 2
}
